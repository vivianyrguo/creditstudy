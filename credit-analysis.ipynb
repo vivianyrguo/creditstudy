{
 "cells": [
  {
   "cell_type": "code",
   "execution_count": 1,
   "metadata": {},
   "outputs": [],
   "source": [
    "import re\n",
    "import os\n",
    "import pandas as pd\n",
    "import numpy as np\n",
    "import seaborn as sns\n",
    "import matplotlib.pyplot as plt"
   ]
  },
  {
   "cell_type": "markdown",
   "metadata": {},
   "source": [
    "#### Loading in data \n",
    "after initial load, no need to run the immediate cell and instead, load acc_df from the pkl file. The original dataset has 154 columns"
   ]
  },
  {
   "cell_type": "code",
   "execution_count": 130,
   "metadata": {},
   "outputs": [],
   "source": [
    "\"\"\" one time - Initial code for generating a pkl file\"\"\"\n",
    "# need to obtain the tar file from lending club loan data on Kaggle \n",
    "\n",
    "# filepath = './'\n",
    "# folders = os.listdir(filepath)\n",
    "# acc_df = pd.read_csv(\"./accepted_2007_to_2018Q4.csv.gz\", )\n",
    "# acc_df.head()\n",
    "# acc_df.to_pickle('acc_df_cached.pkl')"
   ]
  },
  {
   "cell_type": "code",
   "execution_count": 2,
   "metadata": {},
   "outputs": [],
   "source": [
    "# acc_df = pd.read_pickle('acc_df_cached.pkl') # read from current directory, this is faster"
   ]
  },
  {
   "cell_type": "code",
   "execution_count": 2,
   "metadata": {},
   "outputs": [],
   "source": [
    "\"\"\" One time - generating a subset pkl file\"\"\"\n",
    "# selected_cols=[\"loan_status\", \"dti_joint\", \"verification_status_joint\", \"grade\", \"sub_grade\", \"pct_tl_nvr_dlq\", \"num_bc_tl\", \"num_bc_sats\", \"delinq_2yrs\", \"chargeoff_within_12_mths\", \"pub_rec_bankruptcies\", \"num_accts_ever_120_pd\", \"acc_now_delinq\", \"total_acc\", \"percent_bc_gt_75\"]  \n",
    "# acc_df_subset = pd.read_csv(\"./accepted_2007_to_2018Q4.csv.gz\", usecols=selected_cols)\n",
    "# acc_df_subset.to_pickle('acc_df_subset_cached.pkl')"
   ]
  },
  {
   "cell_type": "code",
   "execution_count": 2,
   "metadata": {},
   "outputs": [],
   "source": [
    "acc_df = pd.read_pickle('acc_df_subset_cached.pkl') # read a subset from current directory, this is faster"
   ]
  },
  {
   "cell_type": "code",
   "execution_count": 4,
   "metadata": {},
   "outputs": [
    {
     "data": {
      "text/plain": [
       "Index(['grade', 'sub_grade', 'loan_status', 'delinq_2yrs', 'total_acc',\n",
       "       'dti_joint', 'verification_status_joint', 'acc_now_delinq',\n",
       "       'chargeoff_within_12_mths', 'num_accts_ever_120_pd', 'num_bc_sats',\n",
       "       'num_bc_tl', 'pct_tl_nvr_dlq', 'percent_bc_gt_75',\n",
       "       'pub_rec_bankruptcies'],\n",
       "      dtype='object')"
      ]
     },
     "execution_count": 4,
     "metadata": {},
     "output_type": "execute_result"
    }
   ],
   "source": [
    "acc_df.columns[0:50]"
   ]
  },
  {
   "cell_type": "code",
   "execution_count": 3,
   "metadata": {},
   "outputs": [
    {
     "data": {
      "text/plain": [
       "loan_status\n",
       "Fully Paid                                             1076751\n",
       "Current                                                 878317\n",
       "Charged Off                                             268559\n",
       "Late (31-120 days)                                       21467\n",
       "In Grace Period                                           8436\n",
       "Late (16-30 days)                                         4349\n",
       "Does not meet the credit policy. Status:Fully Paid        1988\n",
       "Does not meet the credit policy. Status:Charged Off        761\n",
       "Default                                                     40\n",
       "Name: count, dtype: int64"
      ]
     },
     "execution_count": 3,
     "metadata": {},
     "output_type": "execute_result"
    }
   ],
   "source": [
    "acc_df.shape\n",
    "acc_df.head().T\n",
    "acc_df[\"loan_status\"].value_counts()"
   ]
  },
  {
   "cell_type": "markdown",
   "metadata": {},
   "source": [
    "### Data Cleaning\n",
    "Three categories of loan status results\n",
    "* Fully Paid\n",
    "* Late (grace period, 16-30, 31-120)\n",
    "* Charged off / default"
   ]
  },
  {
   "cell_type": "code",
   "execution_count": 4,
   "metadata": {},
   "outputs": [],
   "source": [
    "# Preprocessing certain columns\n",
    "acc_df[\"pct_bc_inssats\"] = 1 - acc_df[\"num_bc_sats\"]/acc_df[\"num_bc_tl\"] \n",
    "acc_df[\"pct_tl_evr_dlq\"] = 1 - acc_df[\"pct_tl_nvr_dlq\"] / 100\n",
    "acc_df[\"percent_bc_gt_75\"] = acc_df[\"percent_bc_gt_75\"] / 100\n",
    "acc_df[\"pct_acc_now_delinq\"] = acc_df[\"acc_now_delinq\"] / acc_df[\"total_acc\"]"
   ]
  },
  {
   "cell_type": "code",
   "execution_count": 5,
   "metadata": {},
   "outputs": [],
   "source": [
    "# different combinations of explanatory columns to experiment with\n",
    "# * watch out for high collinearity\n",
    "explore_columns = {\n",
    "    1: [\"tax_liens\", \"collections_12_mths_ex_med\", \"pub_rec_bankruptcies\", \"num_accts_ever_120_pd\"],\n",
    "    2: [\"tax_liens\", \"collections_12_mths_ex_med\", \"pub_rec_bankruptcies\", \"pct_tl_nvr_dlq\", \"num_accts_ever_120_pd\"],\n",
    "    3: [\"tax_liens\", \"pub_rec_bankruptcies\"],\n",
    "    4: [],\n",
    "    5: [\"pct_tl_evr_dlq\", \"pct_bc_inssats\", \"tax_liens\", \"delinq_2yrs\", \"chargeoff_within_12_mths\", \"collections_12_mths_ex_med\", \"acc_now_delinq\", \"percent_bc_gt_75\", \"pub_rec_bankruptcies\", \"pub_rec\", \"num_accts_ever_120_pd\", \"dti\"],\n",
    "    6: [\"pct_tl_evr_dlq\", \"pct_bc_inssats\", \"delinq_2yrs\", \"chargeoff_within_12_mths\", \"pub_rec_bankruptcies\", \"num_accts_ever_120_pd\", \"pct_acc_now_delinq\"],\n",
    "    7: [\"pct_tl_evr_dlq\", \"pct_bc_inssats\", \"delinq_2yrs\", \"chargeoff_within_12_mths\", \"num_accts_ever_120_pd\"]\n",
    "}\n",
    "\n",
    "# list of relevant columns\n",
    "info = [\"dti_joint\", \"verification_status_joint\", \"grade\", \"sub_grade\"]\n",
    "dependent = [\"loan_status\"]\n",
    "explanatory = explore_columns[7]"
   ]
  },
  {
   "cell_type": "code",
   "execution_count": 6,
   "metadata": {},
   "outputs": [
    {
     "name": "stdout",
     "output_type": "stream",
     "text": [
      "count before drop na: 2260701, count after drop na: 2184536\n"
     ]
    }
   ],
   "source": [
    "# filter for relevant columns\n",
    "filtered_df = acc_df[info + dependent + explanatory]\n",
    "\n",
    "# data cleaning - given that NAs make up a small portion of the overall data, we drop NAs\n",
    "print(f\"count before drop na: {len(filtered_df)}, count after drop na: {len(filtered_df.dropna(subset=explanatory+dependent) )}\")\n",
    "filtered_df = filtered_df.dropna(subset=explanatory+dependent) # after dropping, 2260701 -> 2106856\n",
    "\n",
    "# split based on loan status\n",
    "late_df = filtered_df[filtered_df['loan_status'].isin([\"Late (16-30 days)\", \"Late (31-120 days)\", \"In Grace Period\"])]\n",
    "defaulted_df = filtered_df[filtered_df['loan_status'].isin([\"Default\", \"Charged Off\"])]\n",
    "paid_df = filtered_df[filtered_df['loan_status'] == \"Fully Paid\"]\n",
    "\n",
    "# map loan status to an indicator variable TODO - decide how to categorize lates\n",
    "value_map = {'Fully Paid': 0, 'Default': 1, 'Charged Off': 1, \"Late (16-30 days)\": 0, \"Late (31-120 days)\": 0, \"In Grace Period\": 0}\n",
    "filtered_df[\"default_ind\"] = filtered_df['loan_status'].map(value_map)"
   ]
  },
  {
   "cell_type": "code",
   "execution_count": 8,
   "metadata": {},
   "outputs": [
    {
     "data": {
      "text/html": [
       "<div>\n",
       "<style scoped>\n",
       "    .dataframe tbody tr th:only-of-type {\n",
       "        vertical-align: middle;\n",
       "    }\n",
       "\n",
       "    .dataframe tbody tr th {\n",
       "        vertical-align: top;\n",
       "    }\n",
       "\n",
       "    .dataframe thead th {\n",
       "        text-align: right;\n",
       "    }\n",
       "</style>\n",
       "<table border=\"1\" class=\"dataframe\">\n",
       "  <thead>\n",
       "    <tr style=\"text-align: right;\">\n",
       "      <th></th>\n",
       "      <th>dti_joint</th>\n",
       "      <th>verification_status_joint</th>\n",
       "      <th>grade</th>\n",
       "      <th>sub_grade</th>\n",
       "      <th>loan_status</th>\n",
       "      <th>pct_tl_evr_dlq</th>\n",
       "      <th>pct_bc_inssats</th>\n",
       "      <th>delinq_2yrs</th>\n",
       "      <th>chargeoff_within_12_mths</th>\n",
       "      <th>num_accts_ever_120_pd</th>\n",
       "      <th>default_ind</th>\n",
       "    </tr>\n",
       "  </thead>\n",
       "  <tbody>\n",
       "    <tr>\n",
       "      <th>0</th>\n",
       "      <td>NaN</td>\n",
       "      <td>NaN</td>\n",
       "      <td>C</td>\n",
       "      <td>C4</td>\n",
       "      <td>Fully Paid</td>\n",
       "      <td>0.231</td>\n",
       "      <td>0.600000</td>\n",
       "      <td>0.0</td>\n",
       "      <td>0.0</td>\n",
       "      <td>2.0</td>\n",
       "      <td>0.0</td>\n",
       "    </tr>\n",
       "    <tr>\n",
       "      <th>1</th>\n",
       "      <td>NaN</td>\n",
       "      <td>NaN</td>\n",
       "      <td>C</td>\n",
       "      <td>C1</td>\n",
       "      <td>Fully Paid</td>\n",
       "      <td>0.026</td>\n",
       "      <td>0.235294</td>\n",
       "      <td>1.0</td>\n",
       "      <td>0.0</td>\n",
       "      <td>0.0</td>\n",
       "      <td>0.0</td>\n",
       "    </tr>\n",
       "    <tr>\n",
       "      <th>2</th>\n",
       "      <td>13.85</td>\n",
       "      <td>Not Verified</td>\n",
       "      <td>B</td>\n",
       "      <td>B4</td>\n",
       "      <td>Fully Paid</td>\n",
       "      <td>0.000</td>\n",
       "      <td>0.500000</td>\n",
       "      <td>0.0</td>\n",
       "      <td>0.0</td>\n",
       "      <td>0.0</td>\n",
       "      <td>0.0</td>\n",
       "    </tr>\n",
       "    <tr>\n",
       "      <th>3</th>\n",
       "      <td>NaN</td>\n",
       "      <td>NaN</td>\n",
       "      <td>C</td>\n",
       "      <td>C5</td>\n",
       "      <td>Current</td>\n",
       "      <td>0.000</td>\n",
       "      <td>0.200000</td>\n",
       "      <td>0.0</td>\n",
       "      <td>0.0</td>\n",
       "      <td>0.0</td>\n",
       "      <td>NaN</td>\n",
       "    </tr>\n",
       "    <tr>\n",
       "      <th>4</th>\n",
       "      <td>NaN</td>\n",
       "      <td>NaN</td>\n",
       "      <td>F</td>\n",
       "      <td>F1</td>\n",
       "      <td>Fully Paid</td>\n",
       "      <td>0.034</td>\n",
       "      <td>0.444444</td>\n",
       "      <td>1.0</td>\n",
       "      <td>0.0</td>\n",
       "      <td>0.0</td>\n",
       "      <td>0.0</td>\n",
       "    </tr>\n",
       "  </tbody>\n",
       "</table>\n",
       "</div>"
      ],
      "text/plain": [
       "   dti_joint verification_status_joint grade sub_grade loan_status  \\\n",
       "0        NaN                       NaN     C        C4  Fully Paid   \n",
       "1        NaN                       NaN     C        C1  Fully Paid   \n",
       "2      13.85              Not Verified     B        B4  Fully Paid   \n",
       "3        NaN                       NaN     C        C5     Current   \n",
       "4        NaN                       NaN     F        F1  Fully Paid   \n",
       "\n",
       "   pct_tl_evr_dlq  pct_bc_inssats  delinq_2yrs  chargeoff_within_12_mths  \\\n",
       "0           0.231        0.600000          0.0                       0.0   \n",
       "1           0.026        0.235294          1.0                       0.0   \n",
       "2           0.000        0.500000          0.0                       0.0   \n",
       "3           0.000        0.200000          0.0                       0.0   \n",
       "4           0.034        0.444444          1.0                       0.0   \n",
       "\n",
       "   num_accts_ever_120_pd  default_ind  \n",
       "0                    2.0          0.0  \n",
       "1                    0.0          0.0  \n",
       "2                    0.0          0.0  \n",
       "3                    0.0          NaN  \n",
       "4                    0.0          0.0  "
      ]
     },
     "execution_count": 8,
     "metadata": {},
     "output_type": "execute_result"
    }
   ],
   "source": [
    "filtered_df.head()"
   ]
  },
  {
   "cell_type": "markdown",
   "metadata": {},
   "source": [
    "### Latent Variables\n",
    "\n",
    "columns of interest (explantory variates):\n",
    "\n",
    "a factor model resembles a series of regressions to predict the observed variables from the unobserved.\n",
    "\n",
    "Each of our response variables X is predicted as a linear function of the unobserved common factors\n",
    "\n",
    "we want one unobserved common factor, responsibility (fr)\n",
    "\n",
    "mean 0 and variance 1"
   ]
  },
  {
   "cell_type": "code",
   "execution_count": 7,
   "metadata": {},
   "outputs": [
    {
     "data": {
      "text/html": [
       "<div>\n",
       "<style scoped>\n",
       "    .dataframe tbody tr th:only-of-type {\n",
       "        vertical-align: middle;\n",
       "    }\n",
       "\n",
       "    .dataframe tbody tr th {\n",
       "        vertical-align: top;\n",
       "    }\n",
       "\n",
       "    .dataframe thead th {\n",
       "        text-align: right;\n",
       "    }\n",
       "</style>\n",
       "<table border=\"1\" class=\"dataframe\">\n",
       "  <thead>\n",
       "    <tr style=\"text-align: right;\">\n",
       "      <th></th>\n",
       "      <th>pct_tl_evr_dlq</th>\n",
       "      <th>pct_bc_inssats</th>\n",
       "      <th>delinq_2yrs</th>\n",
       "      <th>chargeoff_within_12_mths</th>\n",
       "      <th>num_accts_ever_120_pd</th>\n",
       "    </tr>\n",
       "  </thead>\n",
       "  <tbody>\n",
       "    <tr>\n",
       "      <th>pct_tl_evr_dlq</th>\n",
       "      <td>1.000000</td>\n",
       "      <td>0.146455</td>\n",
       "      <td>0.442554</td>\n",
       "      <td>0.083019</td>\n",
       "      <td>0.578883</td>\n",
       "    </tr>\n",
       "    <tr>\n",
       "      <th>pct_bc_inssats</th>\n",
       "      <td>0.146455</td>\n",
       "      <td>1.000000</td>\n",
       "      <td>0.104917</td>\n",
       "      <td>0.043815</td>\n",
       "      <td>0.164600</td>\n",
       "    </tr>\n",
       "    <tr>\n",
       "      <th>delinq_2yrs</th>\n",
       "      <td>0.442554</td>\n",
       "      <td>0.104917</td>\n",
       "      <td>1.000000</td>\n",
       "      <td>0.140533</td>\n",
       "      <td>0.218243</td>\n",
       "    </tr>\n",
       "    <tr>\n",
       "      <th>chargeoff_within_12_mths</th>\n",
       "      <td>0.083019</td>\n",
       "      <td>0.043815</td>\n",
       "      <td>0.140533</td>\n",
       "      <td>1.000000</td>\n",
       "      <td>0.119129</td>\n",
       "    </tr>\n",
       "    <tr>\n",
       "      <th>num_accts_ever_120_pd</th>\n",
       "      <td>0.578883</td>\n",
       "      <td>0.164600</td>\n",
       "      <td>0.218243</td>\n",
       "      <td>0.119129</td>\n",
       "      <td>1.000000</td>\n",
       "    </tr>\n",
       "  </tbody>\n",
       "</table>\n",
       "</div>"
      ],
      "text/plain": [
       "                          pct_tl_evr_dlq  pct_bc_inssats  delinq_2yrs  \\\n",
       "pct_tl_evr_dlq                  1.000000        0.146455     0.442554   \n",
       "pct_bc_inssats                  0.146455        1.000000     0.104917   \n",
       "delinq_2yrs                     0.442554        0.104917     1.000000   \n",
       "chargeoff_within_12_mths        0.083019        0.043815     0.140533   \n",
       "num_accts_ever_120_pd           0.578883        0.164600     0.218243   \n",
       "\n",
       "                          chargeoff_within_12_mths  num_accts_ever_120_pd  \n",
       "pct_tl_evr_dlq                            0.083019               0.578883  \n",
       "pct_bc_inssats                            0.043815               0.164600  \n",
       "delinq_2yrs                               0.140533               0.218243  \n",
       "chargeoff_within_12_mths                  1.000000               0.119129  \n",
       "num_accts_ever_120_pd                     0.119129               1.000000  "
      ]
     },
     "execution_count": 7,
     "metadata": {},
     "output_type": "execute_result"
    }
   ],
   "source": [
    "# covariance matrix\n",
    "filtered_df[explanatory].corr()"
   ]
  },
  {
   "cell_type": "markdown",
   "metadata": {},
   "source": [
    "### Explanatory Factor Analysis\n",
    "determine if our selected columns of interests do share an underlying factor\n",
    "\n",
    "https://www.datacamp.com/tutorial/introduction-factor-analysis"
   ]
  },
  {
   "cell_type": "code",
   "execution_count": 8,
   "metadata": {},
   "outputs": [],
   "source": [
    "import pandas as pd\n",
    "from factor_analyzer import FactorAnalyzer\n",
    "import matplotlib.pyplot as plt\n",
    "from factor_analyzer.factor_analyzer import calculate_bartlett_sphericity\n",
    "from factor_analyzer.factor_analyzer import calculate_kmo\n",
    "from sklearn.preprocessing import MinMaxScaler"
   ]
  },
  {
   "cell_type": "markdown",
   "metadata": {},
   "source": [
    "Initial factor analysis results:\n",
    "                                \n",
    "* pct_tl_evr_dlq           -0.932335\n",
    "* pct_bc_inssats           -0.195933\n",
    "* delinq_2yrs              -0.457469\n",
    "* chargeoff_within_12_mths -0.150994\n",
    "* pub_rec_bankruptcies      0.053554 <- removed this\n",
    "* num_accts_ever_120_pd    -0.603487\n",
    "* pct_acc_now_delinq       -0.070801 <- removed this\n",
    "\n",
    "Barlett: (1554455.8794542225, 0.0) <br>\n",
    "KMO: 0.5816380917596572"
   ]
  },
  {
   "cell_type": "code",
   "execution_count": null,
   "metadata": {},
   "outputs": [],
   "source": []
  },
  {
   "cell_type": "code",
   "execution_count": 7,
   "metadata": {},
   "outputs": [
    {
     "data": {
      "text/plain": [
       "0.5788355916462561"
      ]
     },
     "execution_count": 7,
     "metadata": {},
     "output_type": "execute_result"
    }
   ],
   "source": [
    "df_standardized = MinMaxScaler(feature_range=(0, 10)).fit_transform(filtered_df[explanatory])\n",
    "kmo_all,kmo_model=calculate_kmo(df_standardized)\n",
    "kmo_model"
   ]
  },
  {
   "cell_type": "code",
   "execution_count": 8,
   "metadata": {},
   "outputs": [
    {
     "data": {
      "text/plain": [
       "[array([0.9378609]),\n",
       " array([0.19768932]),\n",
       " array([0.45063221]),\n",
       " array([0.14918574]),\n",
       " array([0.60452694])]"
      ]
     },
     "execution_count": 8,
     "metadata": {},
     "output_type": "execute_result"
    }
   ],
   "source": [
    "fa = FactorAnalyzer(n_factors=1, rotation=None)  # Adjust parameters if needed\n",
    "fa.fit(df_standardized)"
   ]
  },
  {
   "cell_type": "code",
   "execution_count": 9,
   "metadata": {},
   "outputs": [],
   "source": [
    "explored_factors1 = explore_columns[6]\n",
    "explanatory = explore_columns[7]"
   ]
  },
  {
   "cell_type": "code",
   "execution_count": 10,
   "metadata": {},
   "outputs": [
    {
     "data": {
      "text/plain": [
       "2184536"
      ]
     },
     "execution_count": 10,
     "metadata": {},
     "output_type": "execute_result"
    }
   ],
   "source": [
    "df = filtered_df[explanatory]\n",
    "len(df)"
   ]
  },
  {
   "cell_type": "code",
   "execution_count": 11,
   "metadata": {},
   "outputs": [
    {
     "data": {
      "text/plain": [
       "(1513056.4147567903, 0.0)"
      ]
     },
     "execution_count": 11,
     "metadata": {},
     "output_type": "execute_result"
    }
   ],
   "source": [
    "# perform an adequacy test\n",
    "chi_square_value,p_value=calculate_bartlett_sphericity(df)\n",
    "chi_square_value, p_value\n",
    "\n",
    "# observe that there is a very small p-value, thus this test passes."
   ]
  },
  {
   "cell_type": "code",
   "execution_count": 12,
   "metadata": {},
   "outputs": [
    {
     "data": {
      "text/plain": [
       "0.5788355916462563"
      ]
     },
     "execution_count": 12,
     "metadata": {},
     "output_type": "execute_result"
    }
   ],
   "source": [
    "kmo_all,kmo_model=calculate_kmo(df)\n",
    "kmo_model\n",
    "# value of 50 is not ideal, but maybe we can go with it"
   ]
  },
  {
   "cell_type": "code",
   "execution_count": 13,
   "metadata": {},
   "outputs": [
    {
     "name": "stdout",
     "output_type": "stream",
     "text": [
      "                                 0\n",
      "pct_tl_evr_dlq           -0.937861\n",
      "pct_bc_inssats           -0.197689\n",
      "delinq_2yrs              -0.450632\n",
      "chargeoff_within_12_mths -0.149186\n",
      "num_accts_ever_120_pd    -0.604527\n"
     ]
    },
    {
     "name": "stderr",
     "output_type": "stream",
     "text": [
      "/home/ye/.pyenv/versions/3.10.14/envs/abi-op-service-env/lib/python3.10/site-packages/factor_analyzer/factor_analyzer.py:663: UserWarning: No rotation will be performed when the number of factors equals 1.\n",
      "  warnings.warn(\n"
     ]
    }
   ],
   "source": [
    "fa = FactorAnalyzer(n_factors=1,rotation='varimax')\n",
    "fa.fit(df)\n",
    "factor_df=pd.DataFrame(fa.loadings_,index=df.columns)\n",
    "print(factor_df)"
   ]
  },
  {
   "cell_type": "code",
   "execution_count": 14,
   "metadata": {},
   "outputs": [
    {
     "data": {
      "text/plain": [
       "(array([1.50944273]), array([0.30188855]), array([0.30188855]))"
      ]
     },
     "execution_count": 14,
     "metadata": {},
     "output_type": "execute_result"
    }
   ],
   "source": [
    "fa.get_factor_variance()"
   ]
  },
  {
   "cell_type": "code",
   "execution_count": 15,
   "metadata": {},
   "outputs": [
    {
     "name": "stdout",
     "output_type": "stream",
     "text": [
      "total explained variance by factor: 2.1132198165203175\n"
     ]
    }
   ],
   "source": [
    "print(f\"total explained variance by factor: {sum(sum(fa.get_factor_variance()))}\")"
   ]
  },
  {
   "cell_type": "code",
   "execution_count": 16,
   "metadata": {},
   "outputs": [
    {
     "data": {
      "text/plain": [
       "[array([0.9378609]),\n",
       " array([0.19768932]),\n",
       " array([0.45063221]),\n",
       " array([0.14918574]),\n",
       " array([0.60452694])]"
      ]
     },
     "execution_count": 16,
     "metadata": {},
     "output_type": "execute_result"
    }
   ],
   "source": [
    "loadings = fa.loadings_\n",
    "loadings = [-x for x in loadings]\n",
    "loadings"
   ]
  },
  {
   "cell_type": "code",
   "execution_count": 17,
   "metadata": {},
   "outputs": [
    {
     "data": {
      "text/plain": [
       "array([[-1.76838375],\n",
       "       [ 0.33836518],\n",
       "       [ 0.57534062],\n",
       "       ...,\n",
       "       [-2.48225016],\n",
       "       [ 0.11835713],\n",
       "       [-1.43662966]])"
      ]
     },
     "execution_count": 17,
     "metadata": {},
     "output_type": "execute_result"
    }
   ],
   "source": [
    "# get factor scores (documentation: https://readthedocs.org/projects/factor-analyzer/downloads/pdf/latest/)\n",
    "factor_scores = fa.transform(filtered_df[explanatory])\n",
    "factor_scores"
   ]
  },
  {
   "cell_type": "markdown",
   "metadata": {},
   "source": [
    "### Logistic Regression"
   ]
  },
  {
   "cell_type": "code",
   "execution_count": 18,
   "metadata": {},
   "outputs": [],
   "source": [
    "\n",
    "from sklearn.decomposition import PCA\n",
    "from sklearn.preprocessing import MinMaxScaler\n",
    "import numpy as np\n",
    "import statsmodels.api as sm\n",
    "from sklearn.model_selection import train_test_split\n",
    "from sklearn.preprocessing import StandardScaler\n",
    "from imblearn.under_sampling import RandomUnderSampler\n",
    "from imblearn.over_sampling import SMOTE\n",
    "from imblearn.combine import SMOTEENN\n",
    "from collections import Counter\n",
    "from sklearn.tree import DecisionTreeClassifier\n",
    "from sklearn.datasets import load_iris\n",
    "from sklearn.model_selection import train_test_split\n",
    "from sklearn.metrics import accuracy_score, classification_report\n",
    "from imblearn.over_sampling import RandomOverSampler\n"
   ]
  },
  {
   "cell_type": "markdown",
   "metadata": {},
   "source": [
    "### Train Model"
   ]
  },
  {
   "cell_type": "code",
   "execution_count": 19,
   "metadata": {},
   "outputs": [
    {
     "name": "stdout",
     "output_type": "stream",
     "text": [
      "count before drop na: 2184536, \n",
      "count after drop na: 1308894\n"
     ]
    }
   ],
   "source": [
    "print(f\"count before drop na: {len(filtered_df)}, \")\n",
    "print(f\"count after drop na: {len(filtered_df.dropna(subset=['default_ind']))}\") # this na drop is a bit high\n",
    "\n",
    "filtered_df = filtered_df.dropna(subset=[\"default_ind\"]) "
   ]
  },
  {
   "cell_type": "code",
   "execution_count": 21,
   "metadata": {},
   "outputs": [
    {
     "data": {
      "text/plain": [
       "1308894"
      ]
     },
     "execution_count": 21,
     "metadata": {},
     "output_type": "execute_result"
    }
   ],
   "source": [
    "# generate irresponsibility measure\n",
    "scaler = MinMaxScaler(feature_range=(0, 1))\n",
    "# irresponsibility_measure = scaler.fit_transform(filtered_df[explanatory]).sum(axis=1)\n",
    "irresponsibility_measure = filtered_df[explanatory].dot(loadings)\n",
    "irresponsibility_measure_t = scaler.fit_transform(irresponsibility_measure)\n",
    "len(irresponsibility_measure)"
   ]
  },
  {
   "cell_type": "code",
   "execution_count": 22,
   "metadata": {},
   "outputs": [],
   "source": [
    "# define x and y\n",
    "x = np.array(irresponsibility_measure_t)\n",
    "y = np.array(filtered_df[\"default_ind\"])          # response\n",
    "\n",
    "\n",
    "# # resample with different techniques\n",
    "smote = SMOTE() # --> and irre_m_t -> 1.2 coefficient and 51.2% \n",
    "x_resampled, y_resampled = smote.fit_resample(x, y)\n",
    "# oversample = RandomOverSampler(random_state=1234) # --> and irre_m_t -> 1.1 coefficient and 51.2% \n",
    "# x_resampled, y_resampled = oversample.fit_resample(x, y)\n",
    "# undersample = RandomUnderSampler(random_state=42) #--> and irre_m_t -> 1.1 coefficient and 51.2% \n",
    "# x_resampled, y_resampled = undersample.fit_resample(x, y)\n",
    "# smote_enn = SMOTEENN(random_state=42)\n",
    "# x_resampled, y_resampled = smote_enn.fit_resample(x,y)\n"
   ]
  },
  {
   "cell_type": "code",
   "execution_count": 24,
   "metadata": {},
   "outputs": [
    {
     "name": "stdout",
     "output_type": "stream",
     "text": [
      "Accuracy: 0.523188004322895\n",
      "Classification Report:\n",
      "               precision    recall  f1-score   support\n",
      "\n",
      "         0.0       0.52      0.51      0.51    420441\n",
      "         1.0       0.52      0.54      0.53    420662\n",
      "\n",
      "    accuracy                           0.52    841103\n",
      "   macro avg       0.52      0.52      0.52    841103\n",
      "weighted avg       0.52      0.52      0.52    841103\n",
      "\n"
     ]
    },
    {
     "data": {
      "image/png": "[encoded data removed]",
      "text/plain": [
       "<Figure size 1200x800 with 1 Axes>"
      ]
     },
     "metadata": {},
     "output_type": "display_data"
    }
   ],
   "source": [
    "# decision tree:\n",
    "X_train, X_test, y_train, y_test = train_test_split(x_resampled, y_resampled, test_size=0.4, random_state=1234)\n",
    "clf = DecisionTreeClassifier(criterion=\"gini\", max_depth=3, random_state=42)\n",
    "clf.fit(X_train, y_train)\n",
    "y_pred = clf.predict(X_test)\n",
    "# Evaluate the model\n",
    "accuracy = accuracy_score(y_test, y_pred)\n",
    "print(\"Accuracy:\", accuracy)\n",
    "print(\"Classification Report:\\n\", classification_report(y_test, y_pred))\n",
    "\n",
    "from sklearn.tree import plot_tree\n",
    "import matplotlib.pyplot as plt\n",
    "\n",
    "plt.figure(figsize=(12,8))\n",
    "plot_tree(clf, filled=True, feature_names=[\"irresponsibility_measure\"], class_names=[\"default\", \"not default\"])\n",
    "plt.show()"
   ]
  },
  {
   "cell_type": "code",
   "execution_count": 32,
   "metadata": {},
   "outputs": [
    {
     "name": "stdout",
     "output_type": "stream",
     "text": [
      "Optimization terminated successfully.\n",
      "         Current function value: 0.693021\n",
      "         Iterations 4\n",
      "                           Logit Regression Results                           \n",
      "==============================================================================\n",
      "Dep. Variable:                      y   No. Observations:              1892480\n",
      "Model:                          Logit   Df Residuals:                  1892478\n",
      "Method:                           MLE   Df Model:                            1\n",
      "Date:                Tue, 29 Oct 2024   Pseudo R-squ.:               0.0001826\n",
      "Time:                        23:56:22   Log-Likelihood:            -1.3115e+06\n",
      "converged:                       True   LL-Null:                   -1.3118e+06\n",
      "Covariance Type:            nonrobust   LLR p-value:                3.419e-106\n",
      "==============================================================================\n",
      "                 coef    std err          z      P>|z|      [0.025      0.975]\n",
      "------------------------------------------------------------------------------\n",
      "const         -0.0181      0.002    -10.826      0.000      -0.021      -0.015\n",
      "x1             1.2703      0.058     21.835      0.000       1.156       1.384\n",
      "==============================================================================\n",
      "Confusion Matrix: \n",
      " [[73187 31927]\n",
      " [70665 34497]]\n",
      "Test accuracy =  0.5121078962886872\n"
     ]
    }
   ],
   "source": [
    "# new - factors scores from factor analyzer \n",
    "x_constant = sm.add_constant(x_resampled)  \n",
    "\n",
    "# split test and train set\n",
    "x_train, x_test, y_train, y_test = train_test_split(x_constant, y_resampled, test_size=0.1, random_state=42)\n",
    "\n",
    "model = sm.Logit(y_train, x_train).fit()\n",
    "print(model.summary())\n",
    "\n",
    "#test\n",
    "yhat = model.predict(x_test)\n",
    "# yhat_t = MinMaxScaler(feature_range=(0, 1)).fit_transform(yhat.reshape(-1, 1))\n",
    "# yhat_t = yhat_t.reshape(yhat.shape)\n",
    "# predction = list([1 if x > 0.5 else 0 for x in yhat_t])\n",
    "predction = list(map(round, yhat))\n",
    "from sklearn.metrics import confusion_matrix, accuracy_score\n",
    "cm = confusion_matrix(y_test, predction)\n",
    "print(\"Confusion Matrix: \\n\", cm)\n",
    "print('Test accuracy = ', accuracy_score(y_test, predction))"
   ]
  },
  {
   "cell_type": "code",
   "execution_count": 28,
   "metadata": {},
   "outputs": [
    {
     "name": "stdout",
     "output_type": "stream",
     "text": [
      "coefficient [1.29969384]\n",
      "Confusion Matrix: \n",
      " [[289943 130664]\n",
      " [280071 140425]]\n",
      "Test accuracy =  0.5116709844097572\n"
     ]
    }
   ],
   "source": [
    "from sklearn.linear_model import LogisticRegression\n",
    "\n",
    "# split test and train set\n",
    "x_train, x_test, y_train, y_test = train_test_split(x_resampled, y_resampled, test_size=0.4, random_state=42)\n",
    "# model = sm.Logit(y_train, x_train).fit()\n",
    "model = LogisticRegression(class_weight='balanced', random_state=42)\n",
    "model.fit(x_train, y_train)\n",
    "print(\"coefficient\", model.coef_[0])\n",
    "\n",
    "\n",
    "yhat = model.predict(x_test)\n",
    "# yhat_t = MinMaxScaler(feature_range=(0, 1)).fit_transform(yhat.reshape(-1, 1))\n",
    "# yhat_t = yhat_t.reshape(yhat.shape)\n",
    "# predction = list([1 if x > 0.5 else 0 for x in yhat_t])\n",
    "predction = list(map(round, yhat))\n",
    "from sklearn.metrics import confusion_matrix, accuracy_score\n",
    "cm = confusion_matrix(y_test, predction)\n",
    "print(\"Confusion Matrix: \\n\", cm)\n",
    "print('Test accuracy = ', accuracy_score(y_test, predction))"
   ]
  }
 ],
 "metadata": {
  "kernelspec": {
   "display_name": "abi-op-service-env",
   "language": "python",
   "name": "python3"
  },
  "language_info": {
   "codemirror_mode": {
    "name": "ipython",
    "version": 3
   },
   "file_extension": ".py",
   "mimetype": "text/x-python",
   "name": "python",
   "nbconvert_exporter": "python",
   "pygments_lexer": "ipython3",
   "version": "3.10.14"
  }
 },
 "nbformat": 4,
 "nbformat_minor": 2
}
