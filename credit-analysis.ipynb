{
 "cells": [
  {
   "cell_type": "code",
   "execution_count": 2,
   "metadata": {},
   "outputs": [],
   "source": [
    "import re\n",
    "import os\n",
    "import pandas as pd\n",
    "import numpy as np\n",
    "import seaborn as sns\n",
    "import matplotlib.pyplot as plt"
   ]
  },
  {
   "cell_type": "code",
   "execution_count": null,
   "metadata": {},
   "outputs": [],
   "source": [
    "!pip install factor_analyzer"
   ]
  },
  {
   "cell_type": "markdown",
   "metadata": {},
   "source": [
    "#### Loading in data \n",
    "after initial load, no need to run the immediate cell and instead, load acc_df from the pkl file."
   ]
  },
  {
   "cell_type": "code",
   "execution_count": 19,
   "metadata": {},
   "outputs": [
    {
     "name": "stderr",
     "output_type": "stream",
     "text": [
      "/var/folders/tz/0pg3_6s57f39kds6_g4kpl680000gn/T/ipykernel_62289/224753027.py:3: DtypeWarning: Columns (0,19,49,59,118,129,130,131,134,135,136,139,145,146,147) have mixed types. Specify dtype option on import or set low_memory=False.\n",
      "  acc_df = pd.read_csv(\"./accepted_2007_to_2018Q4.csv.gz\")\n"
     ]
    }
   ],
   "source": [
    "# need to obtain the tar file from lending club loan data on Kaggle\n",
    "filepath = './'\n",
    "folders = os.listdir(filepath)\n",
    "acc_df = pd.read_csv(\"./accepted_2007_to_2018Q4.csv.gz\")\n",
    "acc_df.to_pickle('acc_df_cached.pkl')"
   ]
  },
  {
   "cell_type": "code",
   "execution_count": 59,
   "metadata": {},
   "outputs": [],
   "source": [
    "acc_df = pd.read_pickle('acc_df_cached.pkl') # read from current directory, this is faster"
   ]
  },
  {
   "cell_type": "code",
   "execution_count": 60,
   "metadata": {},
   "outputs": [
    {
     "data": {
      "text/plain": [
       "Index(['id', 'member_id', 'loan_amnt', 'funded_amnt', 'funded_amnt_inv',\n",
       "       'term', 'int_rate', 'installment', 'grade', 'sub_grade', 'emp_title',\n",
       "       'emp_length', 'home_ownership', 'annual_inc', 'verification_status',\n",
       "       'issue_d', 'loan_status', 'pymnt_plan', 'url', 'desc', 'purpose',\n",
       "       'title', 'zip_code', 'addr_state', 'dti', 'delinq_2yrs',\n",
       "       'earliest_cr_line', 'fico_range_low', 'fico_range_high',\n",
       "       'inq_last_6mths', 'mths_since_last_delinq', 'mths_since_last_record',\n",
       "       'open_acc', 'pub_rec', 'revol_bal', 'revol_util', 'total_acc',\n",
       "       'initial_list_status', 'out_prncp', 'out_prncp_inv', 'total_pymnt',\n",
       "       'total_pymnt_inv', 'total_rec_prncp', 'total_rec_int',\n",
       "       'total_rec_late_fee', 'recoveries', 'collection_recovery_fee',\n",
       "       'last_pymnt_d', 'last_pymnt_amnt', 'next_pymnt_d'],\n",
       "      dtype='object')"
      ]
     },
     "execution_count": 60,
     "metadata": {},
     "output_type": "execute_result"
    }
   ],
   "source": [
    "acc_df.columns[0:50]"
   ]
  },
  {
   "cell_type": "code",
   "execution_count": 61,
   "metadata": {},
   "outputs": [
    {
     "data": {
      "text/plain": [
       "Index(['num_rev_accts', 'num_rev_tl_bal_gt_0', 'num_sats', 'num_tl_120dpd_2m',\n",
       "       'num_tl_30dpd', 'num_tl_90g_dpd_24m', 'num_tl_op_past_12m',\n",
       "       'pct_tl_nvr_dlq', 'percent_bc_gt_75', 'pub_rec_bankruptcies',\n",
       "       'tax_liens', 'tot_hi_cred_lim', 'total_bal_ex_mort', 'total_bc_limit',\n",
       "       'total_il_high_credit_limit', 'revol_bal_joint',\n",
       "       'sec_app_fico_range_low', 'sec_app_fico_range_high',\n",
       "       'sec_app_earliest_cr_line', 'sec_app_inq_last_6mths',\n",
       "       'sec_app_mort_acc', 'sec_app_open_acc', 'sec_app_revol_util',\n",
       "       'sec_app_open_act_il', 'sec_app_num_rev_accts',\n",
       "       'sec_app_chargeoff_within_12_mths',\n",
       "       'sec_app_collections_12_mths_ex_med',\n",
       "       'sec_app_mths_since_last_major_derog', 'hardship_flag', 'hardship_type',\n",
       "       'hardship_reason', 'hardship_status', 'deferral_term',\n",
       "       'hardship_amount', 'hardship_start_date', 'hardship_end_date',\n",
       "       'payment_plan_start_date', 'hardship_length', 'hardship_dpd',\n",
       "       'hardship_loan_status', 'orig_projected_additional_accrued_interest',\n",
       "       'hardship_payoff_balance_amount', 'hardship_last_payment_amount',\n",
       "       'disbursement_method', 'debt_settlement_flag',\n",
       "       'debt_settlement_flag_date', 'settlement_status', 'settlement_date',\n",
       "       'settlement_amount', 'settlement_percentage', 'settlement_term'],\n",
       "      dtype='object')"
      ]
     },
     "execution_count": 61,
     "metadata": {},
     "output_type": "execute_result"
    }
   ],
   "source": [
    "acc_df.columns[100:]"
   ]
  },
  {
   "cell_type": "code",
   "execution_count": 62,
   "metadata": {},
   "outputs": [
    {
     "data": {
      "text/plain": [
       "Index(['last_credit_pull_d', 'last_fico_range_high', 'last_fico_range_low',\n",
       "       'collections_12_mths_ex_med', 'mths_since_last_major_derog',\n",
       "       'policy_code', 'application_type', 'annual_inc_joint', 'dti_joint',\n",
       "       'verification_status_joint', 'acc_now_delinq', 'tot_coll_amt',\n",
       "       'tot_cur_bal', 'open_acc_6m', 'open_act_il', 'open_il_12m',\n",
       "       'open_il_24m', 'mths_since_rcnt_il', 'total_bal_il', 'il_util',\n",
       "       'open_rv_12m', 'open_rv_24m', 'max_bal_bc', 'all_util',\n",
       "       'total_rev_hi_lim', 'inq_fi', 'total_cu_tl', 'inq_last_12m',\n",
       "       'acc_open_past_24mths', 'avg_cur_bal', 'bc_open_to_buy', 'bc_util',\n",
       "       'chargeoff_within_12_mths', 'delinq_amnt', 'mo_sin_old_il_acct',\n",
       "       'mo_sin_old_rev_tl_op', 'mo_sin_rcnt_rev_tl_op', 'mo_sin_rcnt_tl',\n",
       "       'mort_acc', 'mths_since_recent_bc', 'mths_since_recent_bc_dlq',\n",
       "       'mths_since_recent_inq', 'mths_since_recent_revol_delinq',\n",
       "       'num_accts_ever_120_pd', 'num_actv_bc_tl', 'num_actv_rev_tl',\n",
       "       'num_bc_sats', 'num_bc_tl', 'num_il_tl', 'num_op_rev_tl'],\n",
       "      dtype='object')"
      ]
     },
     "execution_count": 62,
     "metadata": {},
     "output_type": "execute_result"
    }
   ],
   "source": [
    "acc_df.columns[50:100]"
   ]
  },
  {
   "cell_type": "code",
   "execution_count": 63,
   "metadata": {},
   "outputs": [
    {
     "data": {
      "text/plain": [
       "loan_status\n",
       "Fully Paid                                             1076751\n",
       "Current                                                 878317\n",
       "Charged Off                                             268559\n",
       "Late (31-120 days)                                       21467\n",
       "In Grace Period                                           8436\n",
       "Late (16-30 days)                                         4349\n",
       "Does not meet the credit policy. Status:Fully Paid        1988\n",
       "Does not meet the credit policy. Status:Charged Off        761\n",
       "Default                                                     40\n",
       "Name: count, dtype: int64"
      ]
     },
     "execution_count": 63,
     "metadata": {},
     "output_type": "execute_result"
    }
   ],
   "source": [
    "acc_df.shape\n",
    "acc_df.head().T\n",
    "acc_df[\"loan_status\"].value_counts()"
   ]
  },
  {
   "cell_type": "markdown",
   "metadata": {},
   "source": [
    "### Data Cleaning\n",
    "Three categories of loan status results\n",
    "* Fully Paid\n",
    "* Late (grace period, 16-30, 31-120)\n",
    "* Charged off / default"
   ]
  },
  {
   "cell_type": "code",
   "execution_count": 69,
   "metadata": {},
   "outputs": [],
   "source": [
    "# different combinations of explanatory columns\n",
    "# * watch out for high collinearity\n",
    "explore_columns = {\n",
    "    1: [\"tax_liens\", \"collections_12_mths_ex_med\", \"pub_rec_bankruptcies\", \"num_accts_ever_120_pd\"],\n",
    "    2: [\"tax_liens\", \"collections_12_mths_ex_med\", \"pub_rec_bankruptcies\", \"pct_tl_nvr_dlq\", \"num_accts_ever_120_pd\"],\n",
    "    3: [\"tax_liens\", \"pub_rec_bankruptcies\"],\n",
    "    4: [],\n",
    "}\n",
    "\n",
    "# list of relevant columns\n",
    "info = [\"dti_joint\", \"verification_status_joint\", \"grade\", \"sub_grade\"]\n",
    "dependent = [\"loan_status\"]\n",
    "explanatory = explore_columns[1]"
   ]
  },
  {
   "cell_type": "code",
   "execution_count": 101,
   "metadata": {},
   "outputs": [
    {
     "name": "stdout",
     "output_type": "stream",
     "text": [
      "count before drop na: 2260701, count after drop na: 2190392\n"
     ]
    }
   ],
   "source": [
    "# filter for relevant columns\n",
    "filtered_df = acc_df[info + dependent + explanatory]\n",
    "\n",
    "# data cleaning - given that NAs make up a small portion of the overall data, we drop NAs\n",
    "print(f\"count before drop na: {len(filtered_df)}, count after drop na: {len(filtered_df.dropna(subset=explanatory+dependent) )}\")\n",
    "filtered_df = filtered_df.dropna(subset=explanatory+dependent) # after dropping, 2260701 -> 2106856\n",
    "\n",
    "# split based on loan status\n",
    "late_df = filtered_df[filtered_df['loan_status'].isin([\"Late (16-30 days)\", \"Late (31-120 days)\", \"In Grace Period\"])]\n",
    "defaulted_df = filtered_df[filtered_df['loan_status'].isin([\"Default\", \"Charged Off\"])]\n",
    "paid_df = filtered_df[filtered_df['loan_status'] == \"Fully Paid\"]\n",
    "\n",
    "# map loan status to an indicator variable TODO - decide how to categorize lates\n",
    "value_map = {'Fully Paid': 0, 'Default': 1, 'Charged Off': 1, \"Late (16-30 days)\": 1, \"Late (31-120 days)\": 1, \"In Grace Period\": 0}\n",
    "filtered_df[\"default_ind\"] = filtered_df['loan_status'].map(value_map)"
   ]
  },
  {
   "cell_type": "code",
   "execution_count": 102,
   "metadata": {},
   "outputs": [
    {
     "data": {
      "text/html": [
       "<div>\n",
       "<style scoped>\n",
       "    .dataframe tbody tr th:only-of-type {\n",
       "        vertical-align: middle;\n",
       "    }\n",
       "\n",
       "    .dataframe tbody tr th {\n",
       "        vertical-align: top;\n",
       "    }\n",
       "\n",
       "    .dataframe thead th {\n",
       "        text-align: right;\n",
       "    }\n",
       "</style>\n",
       "<table border=\"1\" class=\"dataframe\">\n",
       "  <thead>\n",
       "    <tr style=\"text-align: right;\">\n",
       "      <th></th>\n",
       "      <th>dti_joint</th>\n",
       "      <th>verification_status_joint</th>\n",
       "      <th>grade</th>\n",
       "      <th>sub_grade</th>\n",
       "      <th>loan_status</th>\n",
       "      <th>tax_liens</th>\n",
       "      <th>collections_12_mths_ex_med</th>\n",
       "      <th>pub_rec_bankruptcies</th>\n",
       "      <th>num_accts_ever_120_pd</th>\n",
       "      <th>default_ind</th>\n",
       "    </tr>\n",
       "  </thead>\n",
       "  <tbody>\n",
       "    <tr>\n",
       "      <th>0</th>\n",
       "      <td>NaN</td>\n",
       "      <td>NaN</td>\n",
       "      <td>C</td>\n",
       "      <td>C4</td>\n",
       "      <td>Fully Paid</td>\n",
       "      <td>0.0</td>\n",
       "      <td>0.0</td>\n",
       "      <td>0.0</td>\n",
       "      <td>2.0</td>\n",
       "      <td>0.0</td>\n",
       "    </tr>\n",
       "    <tr>\n",
       "      <th>1</th>\n",
       "      <td>NaN</td>\n",
       "      <td>NaN</td>\n",
       "      <td>C</td>\n",
       "      <td>C1</td>\n",
       "      <td>Fully Paid</td>\n",
       "      <td>0.0</td>\n",
       "      <td>0.0</td>\n",
       "      <td>0.0</td>\n",
       "      <td>0.0</td>\n",
       "      <td>0.0</td>\n",
       "    </tr>\n",
       "    <tr>\n",
       "      <th>2</th>\n",
       "      <td>13.85</td>\n",
       "      <td>Not Verified</td>\n",
       "      <td>B</td>\n",
       "      <td>B4</td>\n",
       "      <td>Fully Paid</td>\n",
       "      <td>0.0</td>\n",
       "      <td>0.0</td>\n",
       "      <td>0.0</td>\n",
       "      <td>0.0</td>\n",
       "      <td>0.0</td>\n",
       "    </tr>\n",
       "    <tr>\n",
       "      <th>3</th>\n",
       "      <td>NaN</td>\n",
       "      <td>NaN</td>\n",
       "      <td>C</td>\n",
       "      <td>C5</td>\n",
       "      <td>Current</td>\n",
       "      <td>0.0</td>\n",
       "      <td>0.0</td>\n",
       "      <td>0.0</td>\n",
       "      <td>0.0</td>\n",
       "      <td>NaN</td>\n",
       "    </tr>\n",
       "    <tr>\n",
       "      <th>4</th>\n",
       "      <td>NaN</td>\n",
       "      <td>NaN</td>\n",
       "      <td>F</td>\n",
       "      <td>F1</td>\n",
       "      <td>Fully Paid</td>\n",
       "      <td>0.0</td>\n",
       "      <td>0.0</td>\n",
       "      <td>0.0</td>\n",
       "      <td>0.0</td>\n",
       "      <td>0.0</td>\n",
       "    </tr>\n",
       "  </tbody>\n",
       "</table>\n",
       "</div>"
      ],
      "text/plain": [
       "   dti_joint verification_status_joint grade sub_grade loan_status  tax_liens  \\\n",
       "0        NaN                       NaN     C        C4  Fully Paid        0.0   \n",
       "1        NaN                       NaN     C        C1  Fully Paid        0.0   \n",
       "2      13.85              Not Verified     B        B4  Fully Paid        0.0   \n",
       "3        NaN                       NaN     C        C5     Current        0.0   \n",
       "4        NaN                       NaN     F        F1  Fully Paid        0.0   \n",
       "\n",
       "   collections_12_mths_ex_med  pub_rec_bankruptcies  num_accts_ever_120_pd  \\\n",
       "0                         0.0                   0.0                    2.0   \n",
       "1                         0.0                   0.0                    0.0   \n",
       "2                         0.0                   0.0                    0.0   \n",
       "3                         0.0                   0.0                    0.0   \n",
       "4                         0.0                   0.0                    0.0   \n",
       "\n",
       "   default_ind  \n",
       "0          0.0  \n",
       "1          0.0  \n",
       "2          0.0  \n",
       "3          NaN  \n",
       "4          0.0  "
      ]
     },
     "execution_count": 102,
     "metadata": {},
     "output_type": "execute_result"
    }
   ],
   "source": [
    "filtered_df.head()"
   ]
  },
  {
   "cell_type": "markdown",
   "metadata": {},
   "source": [
    "### Latent Variables\n",
    "\n",
    "columns of interest (explantory variates):\n",
    "\n",
    "a factor model resembles a series of regressions to predict the observed variables from the unobserved.\n",
    "\n",
    "Each of our response variables X is predicted as a linear function of the unobserved common factors\n",
    "\n",
    "we want one unobserved common factor, responsibility (fr)\n",
    "\n",
    "mean 0 and variance 1"
   ]
  },
  {
   "cell_type": "code",
   "execution_count": 103,
   "metadata": {},
   "outputs": [
    {
     "data": {
      "text/html": [
       "<div>\n",
       "<style scoped>\n",
       "    .dataframe tbody tr th:only-of-type {\n",
       "        vertical-align: middle;\n",
       "    }\n",
       "\n",
       "    .dataframe tbody tr th {\n",
       "        vertical-align: top;\n",
       "    }\n",
       "\n",
       "    .dataframe thead th {\n",
       "        text-align: right;\n",
       "    }\n",
       "</style>\n",
       "<table border=\"1\" class=\"dataframe\">\n",
       "  <thead>\n",
       "    <tr style=\"text-align: right;\">\n",
       "      <th></th>\n",
       "      <th>tax_liens</th>\n",
       "      <th>collections_12_mths_ex_med</th>\n",
       "      <th>pub_rec_bankruptcies</th>\n",
       "      <th>num_accts_ever_120_pd</th>\n",
       "    </tr>\n",
       "  </thead>\n",
       "  <tbody>\n",
       "    <tr>\n",
       "      <th>tax_liens</th>\n",
       "      <td>0.147025</td>\n",
       "      <td>0.000604</td>\n",
       "      <td>0.004553</td>\n",
       "      <td>0.006207</td>\n",
       "    </tr>\n",
       "    <tr>\n",
       "      <th>collections_12_mths_ex_med</th>\n",
       "      <td>0.000604</td>\n",
       "      <td>0.023462</td>\n",
       "      <td>-0.000265</td>\n",
       "      <td>0.009988</td>\n",
       "    </tr>\n",
       "    <tr>\n",
       "      <th>pub_rec_bankruptcies</th>\n",
       "      <td>0.004553</td>\n",
       "      <td>-0.000265</td>\n",
       "      <td>0.135719</td>\n",
       "      <td>-0.015937</td>\n",
       "    </tr>\n",
       "    <tr>\n",
       "      <th>num_accts_ever_120_pd</th>\n",
       "      <td>0.006207</td>\n",
       "      <td>0.009988</td>\n",
       "      <td>-0.015937</td>\n",
       "      <td>1.823379</td>\n",
       "    </tr>\n",
       "  </tbody>\n",
       "</table>\n",
       "</div>"
      ],
      "text/plain": [
       "                            tax_liens  collections_12_mths_ex_med  \\\n",
       "tax_liens                    0.147025                    0.000604   \n",
       "collections_12_mths_ex_med   0.000604                    0.023462   \n",
       "pub_rec_bankruptcies         0.004553                   -0.000265   \n",
       "num_accts_ever_120_pd        0.006207                    0.009988   \n",
       "\n",
       "                            pub_rec_bankruptcies  num_accts_ever_120_pd  \n",
       "tax_liens                               0.004553               0.006207  \n",
       "collections_12_mths_ex_med             -0.000265               0.009988  \n",
       "pub_rec_bankruptcies                    0.135719              -0.015937  \n",
       "num_accts_ever_120_pd                  -0.015937               1.823379  "
      ]
     },
     "execution_count": 103,
     "metadata": {},
     "output_type": "execute_result"
    }
   ],
   "source": [
    "# covariance matrix\n",
    "filtered_df[explanatory].cov()"
   ]
  },
  {
   "cell_type": "code",
   "execution_count": 104,
   "metadata": {},
   "outputs": [],
   "source": [
    "# # for linear regression - use this code if we are predicting continuous response variates (?)\n",
    "# from sklearn import linear_model\n",
    "# regr = linear_model.LinearRegression()\n",
    "\n",
    "# import statsmodels.api as sm\n",
    "\n",
    "# subset_expl = [\"pub_rec_bankruptcies\",\"tax_liens\"]\n",
    "# X = filtered_df[subset_expl]\n",
    "# y = filtered_df[[\"default_likelihood\"]]\n",
    "# X = sm.add_constant(X) # add intercept term\n",
    "\n",
    "# # Define and fit the model\n",
    "# model = sm.OLS(y, X)\n",
    "# results = model.fit()\n",
    "# print(results.summary())"
   ]
  },
  {
   "cell_type": "markdown",
   "metadata": {},
   "source": [
    "### One Factor Confirmatory Factor Analysis\n",
    "determine if our selected columns of interests do share an underlying factor\n",
    "\n",
    "https://www.datacamp.com/tutorial/introduction-factor-analysis"
   ]
  },
  {
   "cell_type": "code",
   "execution_count": 105,
   "metadata": {},
   "outputs": [],
   "source": [
    "import pandas as pd\n",
    "from factor_analyzer import FactorAnalyzer\n",
    "import matplotlib.pyplot as plt\n",
    "from factor_analyzer.factor_analyzer import calculate_bartlett_sphericity\n",
    "from factor_analyzer.factor_analyzer import calculate_kmo"
   ]
  },
  {
   "cell_type": "code",
   "execution_count": 106,
   "metadata": {},
   "outputs": [],
   "source": [
    "subset_explanatory = [\"tax_liens\", \"collections_12_mths_ex_med\", \"pub_rec_bankruptcies\", \"num_accts_ever_120_pd\"]\n",
    "df = filtered_df[subset_explanatory]"
   ]
  },
  {
   "cell_type": "code",
   "execution_count": 107,
   "metadata": {},
   "outputs": [
    {
     "data": {
      "text/plain": [
       "(10245.436971871439, 0.0)"
      ]
     },
     "execution_count": 107,
     "metadata": {},
     "output_type": "execute_result"
    }
   ],
   "source": [
    "# perform an adequacy test\n",
    "chi_square_value,p_value=calculate_bartlett_sphericity(df)\n",
    "chi_square_value, p_value\n",
    "\n",
    "# observe that there is a very small p-value, thus this test passes."
   ]
  },
  {
   "cell_type": "code",
   "execution_count": 108,
   "metadata": {},
   "outputs": [
    {
     "data": {
      "text/plain": [
       "0.49940419105860423"
      ]
     },
     "execution_count": 108,
     "metadata": {},
     "output_type": "execute_result"
    }
   ],
   "source": [
    "kmo_all,kmo_model=calculate_kmo(df)\n",
    "kmo_model\n",
    "# value of 50 is not ideal, but maybe we can go with it"
   ]
  },
  {
   "cell_type": "code",
   "execution_count": 109,
   "metadata": {},
   "outputs": [
    {
     "name": "stdout",
     "output_type": "stream",
     "text": [
      "                                   0\n",
      "tax_liens                  -0.011449\n",
      "collections_12_mths_ex_med -0.048623\n",
      "pub_rec_bankruptcies        0.031897\n",
      "num_accts_ever_120_pd      -0.997498\n"
     ]
    },
    {
     "name": "stderr",
     "output_type": "stream",
     "text": [
      "/Users/vivian/anaconda3/lib/python3.11/site-packages/factor_analyzer/factor_analyzer.py:663: UserWarning: No rotation will be performed when the number of factors equals 1.\n",
      "  warnings.warn(\n"
     ]
    }
   ],
   "source": [
    "fa = FactorAnalyzer(n_factors=1,rotation='varimax')\n",
    "fa.fit(df)\n",
    "factor_df=pd.DataFrame(fa.loadings_,index=df.columns)\n",
    "print(factor_df)"
   ]
  },
  {
   "cell_type": "code",
   "execution_count": 110,
   "metadata": {},
   "outputs": [
    {
     "data": {
      "text/plain": [
       "(array([0.99851586]), array([0.24962897]), array([0.24962897]))"
      ]
     },
     "execution_count": 110,
     "metadata": {},
     "output_type": "execute_result"
    }
   ],
   "source": [
    "fa.get_factor_variance()"
   ]
  },
  {
   "cell_type": "code",
   "execution_count": 111,
   "metadata": {},
   "outputs": [
    {
     "name": "stdout",
     "output_type": "stream",
     "text": [
      "total explained variance by factor: 1.497773790023899\n"
     ]
    }
   ],
   "source": [
    "print(f\"total explained variance by factor: {sum(sum(fa.get_factor_variance()))}\")"
   ]
  },
  {
   "cell_type": "code",
   "execution_count": 112,
   "metadata": {},
   "outputs": [
    {
     "data": {
      "text/plain": [
       "array([[-0.01144864],\n",
       "       [-0.04862257],\n",
       "       [ 0.03189682],\n",
       "       [-0.99749848]])"
      ]
     },
     "execution_count": 112,
     "metadata": {},
     "output_type": "execute_result"
    }
   ],
   "source": [
    "fa.loadings_"
   ]
  },
  {
   "cell_type": "code",
   "execution_count": 113,
   "metadata": {},
   "outputs": [
    {
     "data": {
      "text/plain": [
       "array([[-1.10787631],\n",
       "       [ 0.36952309],\n",
       "       [ 0.36952309],\n",
       "       ...,\n",
       "       [-4.06267512],\n",
       "       [-0.36939128],\n",
       "       [-2.58527571]])"
      ]
     },
     "execution_count": 113,
     "metadata": {},
     "output_type": "execute_result"
    }
   ],
   "source": [
    "# get factor scores (documentation: https://readthedocs.org/projects/factor-analyzer/downloads/pdf/latest/)\n",
    "fa.transform(df.values)"
   ]
  },
  {
   "cell_type": "markdown",
   "metadata": {},
   "source": [
    "### Logistic Regression"
   ]
  },
  {
   "cell_type": "code",
   "execution_count": 114,
   "metadata": {},
   "outputs": [],
   "source": [
    "# create a responsibility measure based on given columns \n",
    "def measure_responsibility(df, columns):\n",
    "    df[\"responsibility\"] = 0\n",
    "\n",
    "    # standardize each column in columns and sum to responsibility\n",
    "    for col in columns:\n",
    "        # df[col].fillna(df[col].median()) # median imputation\n",
    "        df[f'{col}_standardized'] = (df[col] - df[col].mean()) / df[col].std()\n",
    "        df[\"responsibility\"] = df[\"responsibility\"] + df[f'{col}_standardized']  # Add each standardized column\n",
    "    return df[\"responsibility\"]"
   ]
  },
  {
   "cell_type": "code",
   "execution_count": 115,
   "metadata": {},
   "outputs": [],
   "source": [
    "filtered_df[\"responsibility\"] = measure_responsibility(filtered_df, explanatory)"
   ]
  },
  {
   "cell_type": "code",
   "execution_count": 116,
   "metadata": {},
   "outputs": [],
   "source": [
    "import numpy as np\n",
    "import statsmodels.api as sm"
   ]
  },
  {
   "cell_type": "code",
   "execution_count": 117,
   "metadata": {},
   "outputs": [
    {
     "name": "stdout",
     "output_type": "stream",
     "text": [
      "count before drop na: 2190392, \n",
      "count after drop na: 1312075\n",
      "Optimization terminated successfully.\n",
      "         Current function value: 0.522053\n",
      "         Iterations 5\n"
     ]
    }
   ],
   "source": [
    "print(f\"count before drop na: {len(filtered_df)}, \")\n",
    "print(f\"count after drop na: {len(filtered_df.dropna(subset=['default_ind']))}\") # this na drop is a bit high\n",
    "\n",
    "filtered_df = filtered_df.dropna(subset=[\"default_ind\"]) \n",
    "x = np.array(filtered_df[\"responsibility\"])\n",
    "y = np.array(filtered_df[\"default_ind\"])          # response\n",
    "x = sm.add_constant(x)  \n",
    "\n",
    "model = sm.Logit(y, x).fit()"
   ]
  },
  {
   "cell_type": "code",
   "execution_count": 118,
   "metadata": {},
   "outputs": [
    {
     "data": {
      "text/html": [
       "<table class=\"simpletable\">\n",
       "<caption>Logit Regression Results</caption>\n",
       "<tr>\n",
       "  <th>Dep. Variable:</th>           <td>y</td>        <th>  No. Observations:  </th>   <td>1312075</td>  \n",
       "</tr>\n",
       "<tr>\n",
       "  <th>Model:</th>                 <td>Logit</td>      <th>  Df Residuals:      </th>   <td>1312073</td>  \n",
       "</tr>\n",
       "<tr>\n",
       "  <th>Method:</th>                 <td>MLE</td>       <th>  Df Model:          </th>   <td>     1</td>   \n",
       "</tr>\n",
       "<tr>\n",
       "  <th>Date:</th>            <td>Sat, 26 Oct 2024</td> <th>  Pseudo R-squ.:     </th>  <td>0.0008062</td> \n",
       "</tr>\n",
       "<tr>\n",
       "  <th>Time:</th>                <td>11:08:29</td>     <th>  Log-Likelihood:    </th> <td>-6.8497e+05</td>\n",
       "</tr>\n",
       "<tr>\n",
       "  <th>converged:</th>             <td>True</td>       <th>  LL-Null:           </th> <td>-6.8553e+05</td>\n",
       "</tr>\n",
       "<tr>\n",
       "  <th>Covariance Type:</th>     <td>nonrobust</td>    <th>  LLR p-value:       </th> <td>2.279e-242</td> \n",
       "</tr>\n",
       "</table>\n",
       "<table class=\"simpletable\">\n",
       "<tr>\n",
       "    <td></td>       <th>coef</th>     <th>std err</th>      <th>z</th>      <th>P>|z|</th>  <th>[0.025</th>    <th>0.975]</th>  \n",
       "</tr>\n",
       "<tr>\n",
       "  <th>const</th> <td>   -1.2887</td> <td>    0.002</td> <td> -606.850</td> <td> 0.000</td> <td>   -1.293</td> <td>   -1.285</td>\n",
       "</tr>\n",
       "<tr>\n",
       "  <th>x1</th>    <td>    0.0325</td> <td>    0.001</td> <td>   33.404</td> <td> 0.000</td> <td>    0.031</td> <td>    0.034</td>\n",
       "</tr>\n",
       "</table>"
      ],
      "text/latex": [
       "\\begin{center}\n",
       "\\begin{tabular}{lclc}\n",
       "\\toprule\n",
       "\\textbf{Dep. Variable:}   &        y         & \\textbf{  No. Observations:  } &   1312075    \\\\\n",
       "\\textbf{Model:}           &      Logit       & \\textbf{  Df Residuals:      } &   1312073    \\\\\n",
       "\\textbf{Method:}          &       MLE        & \\textbf{  Df Model:          } &         1    \\\\\n",
       "\\textbf{Date:}            & Sat, 26 Oct 2024 & \\textbf{  Pseudo R-squ.:     } &  0.0008062   \\\\\n",
       "\\textbf{Time:}            &     11:08:29     & \\textbf{  Log-Likelihood:    } & -6.8497e+05  \\\\\n",
       "\\textbf{converged:}       &       True       & \\textbf{  LL-Null:           } & -6.8553e+05  \\\\\n",
       "\\textbf{Covariance Type:} &    nonrobust     & \\textbf{  LLR p-value:       } &  2.279e-242  \\\\\n",
       "\\bottomrule\n",
       "\\end{tabular}\n",
       "\\begin{tabular}{lcccccc}\n",
       "               & \\textbf{coef} & \\textbf{std err} & \\textbf{z} & \\textbf{P$> |$z$|$} & \\textbf{[0.025} & \\textbf{0.975]}  \\\\\n",
       "\\midrule\n",
       "\\textbf{const} &      -1.2887  &        0.002     &  -606.850  &         0.000        &       -1.293    &       -1.285     \\\\\n",
       "\\textbf{x1}    &       0.0325  &        0.001     &    33.404  &         0.000        &        0.031    &        0.034     \\\\\n",
       "\\bottomrule\n",
       "\\end{tabular}\n",
       "%\\caption{Logit Regression Results}\n",
       "\\end{center}"
      ],
      "text/plain": [
       "<class 'statsmodels.iolib.summary.Summary'>\n",
       "\"\"\"\n",
       "                           Logit Regression Results                           \n",
       "==============================================================================\n",
       "Dep. Variable:                      y   No. Observations:              1312075\n",
       "Model:                          Logit   Df Residuals:                  1312073\n",
       "Method:                           MLE   Df Model:                            1\n",
       "Date:                Sat, 26 Oct 2024   Pseudo R-squ.:               0.0008062\n",
       "Time:                        11:08:29   Log-Likelihood:            -6.8497e+05\n",
       "converged:                       True   LL-Null:                   -6.8553e+05\n",
       "Covariance Type:            nonrobust   LLR p-value:                2.279e-242\n",
       "==============================================================================\n",
       "                 coef    std err          z      P>|z|      [0.025      0.975]\n",
       "------------------------------------------------------------------------------\n",
       "const         -1.2887      0.002   -606.850      0.000      -1.293      -1.285\n",
       "x1             0.0325      0.001     33.404      0.000       0.031       0.034\n",
       "==============================================================================\n",
       "\"\"\""
      ]
     },
     "execution_count": 118,
     "metadata": {},
     "output_type": "execute_result"
    }
   ],
   "source": [
    "# the error residual term is significant? - much is unexplained\n",
    "model.summary()"
   ]
  },
  {
   "cell_type": "code",
   "execution_count": null,
   "metadata": {},
   "outputs": [],
   "source": []
  }
 ],
 "metadata": {
  "kernelspec": {
   "display_name": "base",
   "language": "python",
   "name": "python3"
  },
  "language_info": {
   "codemirror_mode": {
    "name": "ipython",
    "version": 3
   },
   "file_extension": ".py",
   "mimetype": "text/x-python",
   "name": "python",
   "nbconvert_exporter": "python",
   "pygments_lexer": "ipython3",
   "version": "3.11.5"
  }
 },
 "nbformat": 4,
 "nbformat_minor": 2
}
